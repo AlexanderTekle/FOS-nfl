{
 "cells": [
  {
   "cell_type": "code",
   "execution_count": 1,
   "id": "9fbf102f-d07f-419d-9d56-e1cd8373d833",
   "metadata": {},
   "outputs": [],
   "source": [
    "import torch\n",
    "from torch.utils.data import DataLoader, RandomSampler, SequentialSampler, TensorDataset\n",
    "from transformers import BertTokenizer, BertForSequenceClassification, AdamW\n",
    "from datasets import load_dataset\n",
    "from sklearn.model_selection import train_test_split\n",
    "from sklearn.metrics import accuracy_score, precision_recall_fscore_support\n",
    "import numpy as np"
   ]
  },
  {
   "cell_type": "code",
   "execution_count": 3,
   "id": "2bc62a1b-f8c9-4b98-8e58-4143686ec310",
   "metadata": {},
   "outputs": [],
   "source": [
    "# Load the correct HYPO-L dataset\n",
    "dataset = load_dataset(\"tasksource/HYPO-L\")\n",
    "\n",
    "# Initialize the BERT tokenizer\n",
    "tokenizer = BertTokenizer.from_pretrained('bert-base-uncased')"
   ]
  },
  {
   "cell_type": "code",
   "execution_count": null,
   "id": "1d28b15e-4cd9-44d3-b1b1-01f397c6a158",
   "metadata": {},
   "outputs": [],
   "source": []
  },
  {
   "cell_type": "code",
   "execution_count": 12,
   "id": "05c0e1fd-9497-493a-b8b0-a96df09d48d2",
   "metadata": {},
   "outputs": [],
   "source": [
    "# Tokenize the data\n",
    "def tokenize_function(examples):\n",
    "    return tokenizer(examples['sentence'], padding='max_length', truncation=True, max_length=128)\n",
    "\n",
    "tokenized_datasets = dataset.map(tokenize_function, batched=True)\n",
    "\n",
    "# Prepare the dataset for PyTorch\n",
    "tokenized_datasets = tokenized_datasets.remove_columns(['sentence'])\n",
    "tokenized_datasets = tokenized_datasets.rename_column('label', 'labels')\n",
    "tokenized_datasets.set_format('torch')\n",
    "\n",
    "# Combine train and test sets, then split\n",
    "full_dataset = tokenized_datasets['train'].to_pandas()\n",
    "\n",
    "# Perform the 80-20 split\n",
    "train_data, test_data = train_test_split(full_dataset, test_size=0.2, random_state=42)\n",
    "\n",
    "# Convert back to PyTorch datasets\n",
    "train_dataset = TensorDataset(\n",
    "    torch.tensor(train_data['input_ids'].tolist()),\n",
    "    torch.tensor(train_data['attention_mask'].tolist()),\n",
    "    torch.tensor(train_data['labels'].tolist())\n",
    ")\n",
    "\n",
    "test_dataset = TensorDataset(\n",
    "    torch.tensor(test_data['input_ids'].tolist()),\n",
    "    torch.tensor(test_data['attention_mask'].tolist()),\n",
    "    torch.tensor(test_data['labels'].tolist())\n",
    ")"
   ]
  },
  {
   "cell_type": "code",
   "execution_count": 13,
   "id": "47213c1d-c13b-4811-b5bc-043ce808bff9",
   "metadata": {},
   "outputs": [
    {
     "name": "stderr",
     "output_type": "stream",
     "text": [
      "Some weights of BertForSequenceClassification were not initialized from the model checkpoint at bert-base-uncased and are newly initialized: ['classifier.bias', 'classifier.weight']\n",
      "You should probably TRAIN this model on a down-stream task to be able to use it for predictions and inference.\n"
     ]
    }
   ],
   "source": [
    "model = BertForSequenceClassification.from_pretrained('bert-base-uncased', num_labels=2)"
   ]
  },
  {
   "cell_type": "code",
   "execution_count": 14,
   "id": "b6bbd2f9-802f-4b35-addf-e83bfd2f8085",
   "metadata": {},
   "outputs": [
    {
     "name": "stdout",
     "output_type": "stream",
     "text": [
      "mps\n"
     ]
    }
   ],
   "source": [
    "# Set up training parameters\n",
    "batch_size = 16\n",
    "epochs = 3\n",
    "device = torch.device('mps' if torch.backends.mps.is_available() else 'cpu')\n",
    "print(device)\n",
    "model.to(device)\n",
    "\n",
    "# Create data loaders\n",
    "train_dataloader = DataLoader(train_dataset, sampler=RandomSampler(train_dataset), batch_size=batch_size)\n",
    "test_dataloader = DataLoader(test_dataset, sampler=SequentialSampler(test_dataset), batch_size=batch_size)\n",
    "\n",
    "# Set up optimizer\n",
    "optimizer = AdamW(model.parameters(), lr=2e-5)\n",
    "\n"
   ]
  },
  {
   "cell_type": "code",
   "execution_count": 15,
   "id": "a90150ca-b364-44cc-bf09-afb4f369cbe0",
   "metadata": {},
   "outputs": [
    {
     "name": "stdout",
     "output_type": "stream",
     "text": [
      "Epoch 1\n",
      "Accuracy: 0.74\n",
      "Precision: 0.75\n",
      "Recall: 0.35\n",
      "F1-score: 0.48\n",
      "Epoch 2\n",
      "Accuracy: 0.75\n",
      "Precision: 0.60\n",
      "Recall: 0.71\n",
      "F1-score: 0.65\n",
      "Epoch 3\n",
      "Accuracy: 0.76\n",
      "Precision: 0.70\n",
      "Recall: 0.52\n",
      "F1-score: 0.60\n"
     ]
    },
    {
     "data": {
      "text/plain": [
       "('./hyperbole_model/tokenizer_config.json',\n",
       " './hyperbole_model/special_tokens_map.json',\n",
       " './hyperbole_model/vocab.txt',\n",
       " './hyperbole_model/added_tokens.json')"
      ]
     },
     "execution_count": 15,
     "metadata": {},
     "output_type": "execute_result"
    }
   ],
   "source": [
    "# Training loop\n",
    "for epoch in range(epochs):\n",
    "    model.train()\n",
    "    for batch in train_dataloader:\n",
    "        input_ids, attention_mask, labels = [b.to(device) for b in batch]\n",
    "        outputs = model(input_ids, attention_mask=attention_mask, labels=labels)\n",
    "        loss = outputs.loss\n",
    "        loss.backward()\n",
    "        optimizer.step()\n",
    "        optimizer.zero_grad()\n",
    "    \n",
    "    # Evaluation\n",
    "    model.eval()\n",
    "    predictions = []\n",
    "    true_labels = []\n",
    "    for batch in test_dataloader:\n",
    "        input_ids, attention_mask, labels = [b.to(device) for b in batch]\n",
    "        with torch.no_grad():\n",
    "            outputs = model(input_ids, attention_mask=attention_mask)\n",
    "        logits = outputs.logits\n",
    "        predictions.extend(torch.argmax(logits, dim=-1).cpu().numpy())\n",
    "        true_labels.extend(labels.cpu().numpy())\n",
    "    \n",
    "    accuracy = accuracy_score(true_labels, predictions)\n",
    "    precision, recall, f1, _ = precision_recall_fscore_support(true_labels, predictions, average='binary')\n",
    "    \n",
    "    print(f\"Epoch {epoch+1}\")\n",
    "    print(f\"Accuracy: {accuracy:.2f}\")\n",
    "    print(f\"Precision: {precision:.2f}\")\n",
    "    print(f\"Recall: {recall:.2f}\")\n",
    "    print(f\"F1-score: {f1:.2f}\")\n",
    "\n",
    "# Save the model\n",
    "model.save_pretrained('./hyperbole_model')\n",
    "tokenizer.save_pretrained('./hyperbole_model')"
   ]
  },
  {
   "cell_type": "code",
   "execution_count": null,
   "id": "f043f5b6-62a4-464d-acff-7bfdee3f6d52",
   "metadata": {},
   "outputs": [],
   "source": []
  }
 ],
 "metadata": {
  "kernelspec": {
   "display_name": "python-3-8-19",
   "language": "python",
   "name": "python-3-8-19"
  },
  "language_info": {
   "codemirror_mode": {
    "name": "ipython",
    "version": 3
   },
   "file_extension": ".py",
   "mimetype": "text/x-python",
   "name": "python",
   "nbconvert_exporter": "python",
   "pygments_lexer": "ipython3",
   "version": "3.8.19"
  }
 },
 "nbformat": 4,
 "nbformat_minor": 5
}
